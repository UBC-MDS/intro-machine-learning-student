{
 "cells": [
  {
   "cell_type": "markdown",
   "metadata": {
    "deletable": false,
    "editable": false,
    "nbgrader": {
     "cell_type": "markdown",
     "checksum": "4b5cbdcd8d1d2ea28d93877dafa5fd8d",
     "grade": false,
     "grade_id": "cell-9799123b80da6a89",
     "locked": true,
     "schema_version": 3,
     "solution": false,
     "task": false
    }
   },
   "source": [
    "# Introduction to Machine Learning  \n",
    "\n",
    "# Assignment 1: Machine Learning Fundamentals "
   ]
  },
  {
   "cell_type": "markdown",
   "metadata": {},
   "source": [
    "You can't learn technical subjects without hands-on practice. The assignments are an important part of the course. To submit this assignment you will need to make sure that you save your Jupyter notebook. \n",
    "\n",
    "Below are the links of 2 videos that explain:\n",
    "\n",
    "1. [How to save your Jupyter notebook](https://youtu.be/0aoLgBoAUSA) and,       \n",
    "2. [How to answer a question in a Jupyter notebook assignment](https://youtu.be/7j0WKhI3W4s)."
   ]
  },
  {
   "cell_type": "markdown",
   "metadata": {},
   "source": [
    "### Assignment Learning Goals:\n",
    "\n",
    "By the end of the module, students are expected to:\n",
    "\n",
    "- Be able to explain motivation to study machine learning.\n",
    "- Be able to differentiate between supervised and unsupervised learning.\n",
    "- Differentiate between classification and regression problems.\n",
    "- Explain machine learning terminology such as features, targets, training, and error.\n",
    "- Use DummyClassifier/ Dummy Regressor as a baseline for machine learning problems.\n",
    "- Explain the `.fit()` and `.predict()` paradigm and use `.score()` method of ML models.\n",
    "\n",
    "This assignment covers [Module 1]() of the online course. You should complete this module before attempting this assignment."
   ]
  },
  {
   "cell_type": "markdown",
   "metadata": {},
   "source": [
    "Any place you see `...`, you must fill in the function, variable, or data to complete the code. Substitute the `None` with your completed code and answers then proceed to run the cell!"
   ]
  },
  {
   "cell_type": "markdown",
   "metadata": {},
   "source": [
    "Note that some of the questions in this assignment will have hidden tests. This means that no feedback will be given as to the correctness of your solution. It will be left up to you to decide if your answer is sufficiently correct."
   ]
  },
  {
   "cell_type": "code",
   "execution_count": null,
   "metadata": {
    "deletable": false,
    "editable": false,
    "nbgrader": {
     "cell_type": "code",
     "checksum": "a3a125c2fa5c912582b9fd6f9ed4dbc2",
     "grade": false,
     "grade_id": "cell-5e92ac69d9a55154",
     "locked": true,
     "schema_version": 3,
     "solution": false,
     "task": false
    }
   },
   "outputs": [],
   "source": [
    "# Import libraries needed for this lab\n",
    "from hashlib import sha1\n",
    "\n",
    "import altair as alt\n",
    "import graphviz\n",
    "import matplotlib.pyplot as plt\n",
    "import numpy as np\n",
    "import pandas as pd\n",
    "\n",
    "from IPython.display import HTML\n",
    "from sklearn import tree\n",
    "from sklearn.dummy import DummyClassifier\n",
    "from sklearn.model_selection import cross_val_score, cross_validate, train_test_split\n",
    "from sklearn.tree import DecisionTreeClassifier\n",
    "import test_assignment1 as t"
   ]
  },
  {
   "cell_type": "markdown",
   "metadata": {
    "deletable": false,
    "editable": false,
    "nbgrader": {
     "cell_type": "markdown",
     "checksum": "c493d1c957436b2a3acb23b34b71dc7a",
     "grade": false,
     "grade_id": "cell-b9ee03036efe160f",
     "locked": true,
     "schema_version": 3,
     "solution": false,
     "task": false
    }
   },
   "source": [
    "## Exercise 1: Interpreting the Decision Tree"
   ]
  },
  {
   "cell_type": "markdown",
   "metadata": {
    "deletable": false,
    "editable": false,
    "nbgrader": {
     "cell_type": "markdown",
     "checksum": "7513883811ed7fc4fcebfb88340bc034",
     "grade": false,
     "grade_id": "cell-9a75f5fa17988309",
     "locked": true,
     "schema_version": 3,
     "solution": false,
     "task": false
    }
   },
   "source": [
    "Below is a toy data set that we will be using to get familiar with Scikit-learn. "
   ]
  },
  {
   "cell_type": "code",
   "execution_count": null,
   "metadata": {
    "deletable": false,
    "editable": false,
    "nbgrader": {
     "cell_type": "code",
     "checksum": "bcb5bc4eb0d0fb6531aa87f01b7054e7",
     "grade": false,
     "grade_id": "cell-634d133ac4e81d04",
     "locked": true,
     "schema_version": 3,
     "solution": false,
     "task": false
    }
   },
   "outputs": [],
   "source": [
    "toy_data = {\n",
    "    # Features\n",
    "    'is_sweet': [0, 0, 1, 1, 0, 1, 0],\n",
    "    'diameter': [3, 3, 1, 1, 3, 1, 4],\n",
    "    # Target\n",
    "    'target': ['Apple', 'Apple', 'Grape', 'Grape', 'Lemon', 'Grape', 'Apple']\n",
    "}\n",
    "\n",
    "df = pd.DataFrame(toy_data)\n",
    "df"
   ]
  },
  {
   "cell_type": "markdown",
   "metadata": {
    "deletable": false,
    "editable": false,
    "nbgrader": {
     "cell_type": "markdown",
     "checksum": "116c694c85110cd6b5362f81bb8e1c11",
     "grade": false,
     "grade_id": "cell-ebc60ee2b33add06",
     "locked": true,
     "schema_version": 3,
     "solution": false,
     "task": false
    }
   },
   "source": [
    "**Question 1.1** \n",
    "<br> {points: 3}\n",
    "\n",
    "a) How many features are present in the dataset? *Assign your answer to a variable of type `int` called `answer1_1_a`*\n",
    "\n",
    "b) Express the names of the features as strings in a list. ex `[\"Feature1\", \"Feature2\", \"Feature3\"]` *Assign your answer to a variable called `answer1_1_b`.*\n",
    "\n",
    "c) How many different classes are possible in the dataset? *Assign your answer to a variable of type `int` called `answer1_1_c`.*"
   ]
  },
  {
   "cell_type": "code",
   "execution_count": null,
   "metadata": {
    "deletable": false,
    "nbgrader": {
     "cell_type": "code",
     "checksum": "5b919957c0621086a4eb2746e5e55cb0",
     "grade": false,
     "grade_id": "cell-93b1d48c76d17000",
     "locked": false,
     "schema_version": 3,
     "solution": true,
     "task": false
    }
   },
   "outputs": [],
   "source": [
    "\n",
    "answer1_1_a = None\n",
    "answer1_1_b = None\n",
    "answer1_1_c = None\n",
    "\n",
    "# your code here\n",
    "raise NotImplementedError # No Answer - remove if you provide an answer"
   ]
  },
  {
   "cell_type": "code",
   "execution_count": null,
   "metadata": {
    "deletable": false,
    "editable": false,
    "nbgrader": {
     "cell_type": "code",
     "checksum": "31d3a119442aad55ef6192c546c44c56",
     "grade": true,
     "grade_id": "cell-361b06792ae5c6c2",
     "locked": true,
     "points": 1,
     "schema_version": 3,
     "solution": false,
     "task": false
    }
   },
   "outputs": [],
   "source": [
    "t.test_1_1_a(answer1_1_a)"
   ]
  },
  {
   "cell_type": "code",
   "execution_count": null,
   "metadata": {
    "deletable": false,
    "editable": false,
    "nbgrader": {
     "cell_type": "code",
     "checksum": "1992120fe95c2736efe9faa4784db36b",
     "grade": true,
     "grade_id": "cell-9586ffb932553194",
     "locked": true,
     "points": 1,
     "schema_version": 3,
     "solution": false,
     "task": false
    }
   },
   "outputs": [],
   "source": [
    "t.test_1_1_b(answer1_1_b)"
   ]
  },
  {
   "cell_type": "code",
   "execution_count": null,
   "metadata": {
    "deletable": false,
    "editable": false,
    "nbgrader": {
     "cell_type": "code",
     "checksum": "2ff15d12fb9ad496e5ef468d4de29526",
     "grade": true,
     "grade_id": "cell-741abfe2b2c5668b",
     "locked": true,
     "points": 1,
     "schema_version": 3,
     "solution": false,
     "task": false
    }
   },
   "outputs": [],
   "source": [
    "t.test_1_1_c(answer1_1_c)"
   ]
  },
  {
   "cell_type": "markdown",
   "metadata": {
    "deletable": false,
    "editable": false,
    "nbgrader": {
     "cell_type": "markdown",
     "checksum": "d135e7ab6aa5e033d14ab0fa5fdea558",
     "grade": false,
     "grade_id": "cell-4196b156832db740",
     "locked": true,
     "schema_version": 3,
     "solution": false,
     "task": false
    }
   },
   "source": [
    "With the data we have above, we want to first design a decision tree and the fit(train) it using the data's features and labels. Once we have fit our decision tree we can use the `predict` function from the model to predicts the class. "
   ]
  },
  {
   "cell_type": "code",
   "execution_count": null,
   "metadata": {
    "deletable": false,
    "editable": false,
    "nbgrader": {
     "cell_type": "code",
     "checksum": "b2dfe6d86a9725f2a4313554e0049638",
     "grade": false,
     "grade_id": "cell-f8f9f90ade0df72c",
     "locked": true,
     "schema_version": 3,
     "solution": false,
     "task": false
    }
   },
   "outputs": [],
   "source": [
    "# instantiate a class of the DecisionTreeClassifier\n",
    "model = tree.DecisionTreeClassifier(random_state = 2) \n",
    "\n",
    "# prepare data for model fitting\n",
    "X = df[['is_sweet','diameter']]\n",
    "y = df['target']\n",
    "\n",
    "# fit the model to the data. The semicolon at the end is used to suppress displaying the output of model.fit\n",
    "model.fit(X, y);\n",
    "\n",
    "# we can use the .predict method of our model class to make predictions\n",
    "predictions = model.predict(X)\n",
    "predictions"
   ]
  },
  {
   "cell_type": "markdown",
   "metadata": {
    "deletable": false,
    "editable": false,
    "nbgrader": {
     "cell_type": "markdown",
     "checksum": "f1f4edfae4534c48c986b1356ba48145",
     "grade": false,
     "grade_id": "cell-b570fad6b52b7046",
     "locked": true,
     "schema_version": 3,
     "solution": false,
     "task": false
    }
   },
   "source": [
    "Since we know the true fruit identities, we can compare the predictions of our tree model to the true values."
   ]
  },
  {
   "cell_type": "code",
   "execution_count": null,
   "metadata": {
    "deletable": false,
    "editable": false,
    "nbgrader": {
     "cell_type": "code",
     "checksum": "89330e97dfb4f9c16a1a0022171ac0fe",
     "grade": false,
     "grade_id": "cell-6dc41b4bf4646d48",
     "locked": true,
     "schema_version": 3,
     "solution": false,
     "task": false
    }
   },
   "outputs": [],
   "source": [
    "df['prediction'] = predictions\n",
    "df"
   ]
  },
  {
   "cell_type": "markdown",
   "metadata": {
    "deletable": false,
    "editable": false,
    "nbgrader": {
     "cell_type": "markdown",
     "checksum": "9632b3d115c3fe2edc68e0890550e60c",
     "grade": false,
     "grade_id": "cell-22bd68d7c9b2218a",
     "locked": true,
     "schema_version": 3,
     "solution": false,
     "task": false
    }
   },
   "source": [
    "**Question 1.2** \n",
    "<br> {points: 3}\n",
    "\n",
    "a) How many unique labels does the decision tree classify the dataset into? *Assign your answer to a variable of type `int` called `answer1_2_a`.*\n",
    "\n",
    "b) What index does the model incorrectly predict the class?  *Assign your answer to a variable of type `int` called `answer1_2_b`.*\n",
    "\n",
    "c) What class should the model have predicted for this fruit?  *Assign your answer to a variable of type `str` called `answer1_2_c`.*"
   ]
  },
  {
   "cell_type": "code",
   "execution_count": null,
   "metadata": {
    "deletable": false,
    "nbgrader": {
     "cell_type": "code",
     "checksum": "5a0c44ccb608a1327f6d41a1adec9f1e",
     "grade": false,
     "grade_id": "cell-90387b4edeb5ac78",
     "locked": false,
     "schema_version": 3,
     "solution": true,
     "task": false
    }
   },
   "outputs": [],
   "source": [
    "\n",
    "answer1_2_a = None \n",
    "answer1_2_b = None\n",
    "answer1_2_c = None\n",
    "\n",
    "# your code here\n",
    "raise NotImplementedError # No Answer - remove if you provide an answer"
   ]
  },
  {
   "cell_type": "code",
   "execution_count": null,
   "metadata": {
    "deletable": false,
    "editable": false,
    "nbgrader": {
     "cell_type": "code",
     "checksum": "f3efd90f5479944d3f6cff92452e3a60",
     "grade": true,
     "grade_id": "cell-3c97ae653257f864",
     "locked": true,
     "points": 1,
     "schema_version": 3,
     "solution": false,
     "task": false
    }
   },
   "outputs": [],
   "source": [
    "t.test_1_2_a(answer1_2_a)"
   ]
  },
  {
   "cell_type": "code",
   "execution_count": null,
   "metadata": {
    "deletable": false,
    "editable": false,
    "nbgrader": {
     "cell_type": "code",
     "checksum": "2b2b2863ade71a2107025ee7ad2f4be0",
     "grade": true,
     "grade_id": "cell-b6cead7e236456c3",
     "locked": true,
     "points": 1,
     "schema_version": 3,
     "solution": false,
     "task": false
    }
   },
   "outputs": [],
   "source": [
    "t.test_1_2_b(answer1_2_b)"
   ]
  },
  {
   "cell_type": "code",
   "execution_count": null,
   "metadata": {
    "deletable": false,
    "editable": false,
    "nbgrader": {
     "cell_type": "code",
     "checksum": "5601caae3552b38890d3675586cb17cd",
     "grade": true,
     "grade_id": "cell-589a9403da90dc20",
     "locked": true,
     "points": 1,
     "schema_version": 3,
     "solution": false,
     "task": false
    }
   },
   "outputs": [],
   "source": [
    "t.test_1_2_c(answer1_2_c)"
   ]
  },
  {
   "cell_type": "markdown",
   "metadata": {
    "deletable": false,
    "editable": false,
    "nbgrader": {
     "cell_type": "markdown",
     "checksum": "742dfd46006b5aac434b76937c603576",
     "grade": false,
     "grade_id": "cell-6c1b67361a85124e",
     "locked": true,
     "schema_version": 3,
     "solution": false,
     "task": false
    }
   },
   "source": [
    "Below is a function we are using to visualize our decision tree."
   ]
  },
  {
   "cell_type": "code",
   "execution_count": null,
   "metadata": {
    "deletable": false,
    "editable": false,
    "nbgrader": {
     "cell_type": "code",
     "checksum": "62d5aacfc481c94689a43d0c39a42c98",
     "grade": false,
     "grade_id": "cell-19ae197d5bb6c4b1",
     "locked": true,
     "schema_version": 3,
     "solution": false,
     "task": false
    }
   },
   "outputs": [],
   "source": [
    "# define a function to plot our model (hint: you'll use this function later in the lab too)\n",
    "def save_and_show_decision_tree(model, \n",
    "                                class_names,\n",
    "                                feature_names,\n",
    "                                save_file_prefix = 'test'):\n",
    "    \"\"\"\n",
    "    Saves the decision tree model as a pdf and shows how the data is split and \n",
    "    classified\n",
    "\n",
    "    Parameters\n",
    "    ----------\n",
    "    model: sklearn.tree.DecisionTreeClassifier\n",
    "        The sklearn model decision tree\n",
    "    class_names : list\n",
    "        The names of all the possible classifications\n",
    "    feature_names : list\n",
    "        The names of all the features\n",
    "    save_file_prefix: str\n",
    "        The name you wish to save the file\n",
    "\n",
    "    Returns\n",
    "    -------\n",
    "    graphviz.files.Source\n",
    "        The decision tree graph\n",
    "    \"\"\"\n",
    "    dot_data = tree.export_graphviz(model, out_file=None, \n",
    "                             feature_names=feature_names,  \n",
    "                             class_names=class_names,  \n",
    "                             filled=True, rounded=True,  \n",
    "                             special_characters=True)  \n",
    "\n",
    "    graph = graphviz.Source(dot_data) \n",
    "    graph.render(save_file_prefix) \n",
    "    return graph\n",
    "\n",
    "graph = save_and_show_decision_tree(model,\n",
    "                                    class_names = ['Apple', 'Grape', 'Lemon'],\n",
    "                                    feature_names = ['is_sweet','diameter'])\n",
    "graph"
   ]
  },
  {
   "cell_type": "markdown",
   "metadata": {
    "deletable": false,
    "editable": false,
    "nbgrader": {
     "cell_type": "markdown",
     "checksum": "e8b605a32af116239897f8ad642657d4",
     "grade": false,
     "grade_id": "cell-950f8df05bb3c4e0",
     "locked": true,
     "schema_version": 3,
     "solution": false,
     "task": false
    }
   },
   "source": [
    "**Question 1.3** \n",
    "<br> {points: 10}\n",
    "\n",
    "a) How deep is the decision tree? *Assign your answer to a variable of type `int` called `answer1_3_a`.*\n",
    "\n",
    "b) What feature is used in the first split? *Assign your answer to a variable of type `str` called `answer1_3_b`.*\n",
    "\n",
    "c) What is this split's threshold? *Assign your answer to a variable of type `float` called `answer1_3_c`.*\n",
    "\n",
    "d) What feature is used in the second split? *Assign your answer to a variable of type `str` called `answer1_3_d`.*\n",
    "\n",
    "e) What is the second split's threshold? *Assign your answer to a variable of type `float` called `answer1_3_e`.*\n",
    "\n",
    "f) What fruit is classified with a single split? How many samples does this cover? *Express your answer in form of a list `[ \"Fruit\", 1]` and assign it to a variable called `answer1_3_f`. The first item in the list should be of type `str` and the second of type `int`.*\n",
    "\n",
    "g) After the first split how many fruit are in the left and right node? *Express your answer in form of a list `[1, 8]` and assign it to an variable called `answer1_3_g`.*\n",
    "\n",
    "h) Would you say this was balanced? *Express your answer type `bool` (`True` or `False`) and assign it to an variable called `answer1_3_h`.*\n",
    "\n",
    "i) If you chose the second feature and threshold as the first split, how many samples would have been in the left and right node? *Express your answer in form of a list `[1, 8]` and assign it to an variable called `answer1_3_i`.*\n",
    "\n",
    "j) If you chose the second feature and threshold as the first split, what would be the number of samples that are no longer ambiguous (samples that have been classified) *Assign your answer to a variable of type `int` called `answer1_3_j`.*"
   ]
  },
  {
   "cell_type": "code",
   "execution_count": null,
   "metadata": {
    "deletable": false,
    "nbgrader": {
     "cell_type": "code",
     "checksum": "d1c4c612d65470eb5ac9277b188ee67f",
     "grade": false,
     "grade_id": "cell-65ced657daf3a0d6",
     "locked": false,
     "schema_version": 3,
     "solution": true,
     "task": false
    }
   },
   "outputs": [],
   "source": [
    "\n",
    "answer1_3_a = None \n",
    "answer1_3_b = None \n",
    "answer1_3_c = None \n",
    "answer1_3_d = None \n",
    "answer1_3_e = None \n",
    "answer1_3_f = None \n",
    "answer1_3_g = None \n",
    "answer1_3_h = None \n",
    "answer1_3_i = None \n",
    "answer1_3_j = None \n",
    "\n",
    "# your code here\n",
    "raise NotImplementedError # No Answer - remove if you provide an answer"
   ]
  },
  {
   "cell_type": "code",
   "execution_count": null,
   "metadata": {
    "deletable": false,
    "editable": false,
    "nbgrader": {
     "cell_type": "code",
     "checksum": "06eccdfedbf3ed6858bd137caafe885b",
     "grade": true,
     "grade_id": "cell-9d1506929f8aca30",
     "locked": true,
     "points": 1,
     "schema_version": 3,
     "solution": false,
     "task": false
    }
   },
   "outputs": [],
   "source": [
    "t.test_1_3_a(answer1_3_a)"
   ]
  },
  {
   "cell_type": "code",
   "execution_count": null,
   "metadata": {
    "deletable": false,
    "editable": false,
    "nbgrader": {
     "cell_type": "code",
     "checksum": "d62e243c6109c63e1f213ede2dbea256",
     "grade": true,
     "grade_id": "cell-b5c12d36fd4a8726",
     "locked": true,
     "points": 1,
     "schema_version": 3,
     "solution": false,
     "task": false
    }
   },
   "outputs": [],
   "source": [
    "t.test_1_3_b(answer1_3_b)"
   ]
  },
  {
   "cell_type": "code",
   "execution_count": null,
   "metadata": {
    "deletable": false,
    "editable": false,
    "nbgrader": {
     "cell_type": "code",
     "checksum": "880ae90f7b0978af743ac05e726e8765",
     "grade": true,
     "grade_id": "cell-5bd7c534be9c3e39",
     "locked": true,
     "points": 1,
     "schema_version": 3,
     "solution": false,
     "task": false
    }
   },
   "outputs": [],
   "source": [
    "t.test_1_3_c(answer1_3_c)"
   ]
  },
  {
   "cell_type": "code",
   "execution_count": null,
   "metadata": {
    "deletable": false,
    "editable": false,
    "nbgrader": {
     "cell_type": "code",
     "checksum": "0932f521ad4210416e118cb151791b6a",
     "grade": true,
     "grade_id": "cell-3baa7401c9f3f564",
     "locked": true,
     "points": 1,
     "schema_version": 3,
     "solution": false,
     "task": false
    }
   },
   "outputs": [],
   "source": [
    "t.test_1_3_d(answer1_3_d)"
   ]
  },
  {
   "cell_type": "code",
   "execution_count": null,
   "metadata": {
    "deletable": false,
    "editable": false,
    "nbgrader": {
     "cell_type": "code",
     "checksum": "ee61e973a501f0ea744479e96b082ebe",
     "grade": true,
     "grade_id": "cell-f2f90748791900cd",
     "locked": true,
     "points": 1,
     "schema_version": 3,
     "solution": false,
     "task": false
    }
   },
   "outputs": [],
   "source": [
    "t.test_1_3_e(answer1_3_e)"
   ]
  },
  {
   "cell_type": "code",
   "execution_count": null,
   "metadata": {
    "deletable": false,
    "editable": false,
    "nbgrader": {
     "cell_type": "code",
     "checksum": "c2f59ee812debd0bb581b790fb81d759",
     "grade": true,
     "grade_id": "cell-a71514e7ec5502b4",
     "locked": true,
     "points": 1,
     "schema_version": 3,
     "solution": false,
     "task": false
    }
   },
   "outputs": [],
   "source": [
    "t.test_1_3_f(answer1_3_f)"
   ]
  },
  {
   "cell_type": "code",
   "execution_count": null,
   "metadata": {
    "deletable": false,
    "editable": false,
    "nbgrader": {
     "cell_type": "code",
     "checksum": "3b746dd8c9211980a56215f93ce4c043",
     "grade": true,
     "grade_id": "cell-b50d2d5ed88efdf4",
     "locked": true,
     "points": 1,
     "schema_version": 3,
     "solution": false,
     "task": false
    }
   },
   "outputs": [],
   "source": [
    "t.test_1_3_g(answer1_3_g)"
   ]
  },
  {
   "cell_type": "code",
   "execution_count": null,
   "metadata": {
    "deletable": false,
    "editable": false,
    "nbgrader": {
     "cell_type": "code",
     "checksum": "7682694a77eb932e5fdb3a3d442ac58a",
     "grade": true,
     "grade_id": "cell-e5133448f61f0c96",
     "locked": true,
     "points": 1,
     "schema_version": 3,
     "solution": false,
     "task": false
    }
   },
   "outputs": [],
   "source": [
    "t.test_1_3_h(answer1_3_h)"
   ]
  },
  {
   "cell_type": "code",
   "execution_count": null,
   "metadata": {
    "deletable": false,
    "editable": false,
    "nbgrader": {
     "cell_type": "code",
     "checksum": "a92306f6653dc218246ff33b78d0580b",
     "grade": true,
     "grade_id": "cell-2ec55da843b70450",
     "locked": true,
     "points": 1,
     "schema_version": 3,
     "solution": false,
     "task": false
    }
   },
   "outputs": [],
   "source": [
    "t.test_1_3_i(answer1_3_i)"
   ]
  },
  {
   "cell_type": "code",
   "execution_count": null,
   "metadata": {
    "deletable": false,
    "editable": false,
    "nbgrader": {
     "cell_type": "code",
     "checksum": "2445eb3f01bf97e7294b4bc86fe0f677",
     "grade": true,
     "grade_id": "cell-d7e30d7c94cb3acc",
     "locked": true,
     "points": 1,
     "schema_version": 3,
     "solution": false,
     "task": false
    }
   },
   "outputs": [],
   "source": [
    "t.test_1_3_j(answer1_3_j)"
   ]
  },
  {
   "cell_type": "markdown",
   "metadata": {
    "deletable": false,
    "editable": false,
    "nbgrader": {
     "cell_type": "markdown",
     "checksum": "478d4d29aeff426ed948a8077584075e",
     "grade": false,
     "grade_id": "cell-1cad9fdd9f012a38",
     "locked": true,
     "schema_version": 3,
     "solution": false,
     "task": false
    }
   },
   "source": [
    "**Question 1.4** \n",
    "<br> {points: 1}\n",
    "\n",
    "What would need to increase for the model to predict the classification lemon? \n",
    "\n",
    "a) The number of features used in training\n",
    "\n",
    "b) The number of samples with a `lemon` lable\n",
    "\n",
    "c) Both of these \n",
    "\n",
    "d) Neither of these \n",
    "\n",
    "*Express your answer in form of a string `\"H\"` and assign it to a variable called `answer1_4`.*"
   ]
  },
  {
   "cell_type": "code",
   "execution_count": null,
   "metadata": {
    "deletable": false,
    "nbgrader": {
     "cell_type": "code",
     "checksum": "5e861dc250c9f0292f494a7d36b9074d",
     "grade": false,
     "grade_id": "cell-45c224fbec68c1f4",
     "locked": false,
     "schema_version": 3,
     "solution": true,
     "task": false
    }
   },
   "outputs": [],
   "source": [
    "\n",
    "answer1_3_a = None \n",
    "\n",
    "# your code here\n",
    "raise NotImplementedError # No Answer - remove if you provide an answer"
   ]
  },
  {
   "cell_type": "code",
   "execution_count": null,
   "metadata": {
    "deletable": false,
    "editable": false,
    "nbgrader": {
     "cell_type": "code",
     "checksum": "0d4b6ae758d933766c4fdf7482bfbdf2",
     "grade": true,
     "grade_id": "cell-edc9c24fd0bfabec",
     "locked": true,
     "points": 1,
     "schema_version": 3,
     "solution": false,
     "task": false
    }
   },
   "outputs": [],
   "source": [
    "t.test_1_4(answer1_4)"
   ]
  },
  {
   "cell_type": "markdown",
   "metadata": {
    "deletable": false,
    "editable": false,
    "nbgrader": {
     "cell_type": "markdown",
     "checksum": "921ea313afe5e1edf732dc339b1bffab",
     "grade": false,
     "grade_id": "cell-702c5931ba4d9960",
     "locked": true,
     "schema_version": 3,
     "solution": false,
     "task": false
    }
   },
   "source": [
    "## Exercise 2: Exploratory Data Analysis <a name=\"2\"></a>\n",
    " \n",
    " \n",
    "For the rest of the lab you'll be using Kaggle's [Spotify Song Attributes](https://www.kaggle.com/geomack/spotifyclassification/home) dataset.\n",
    "The dataset contains a number of features of songs from 2017 and a binary target variable representing whether the user liked the song or not. See the documentation of all the features [here](https://developer.spotify.com/documentation/web-api/reference/tracks/get-audio-features/). The question we will focus on is what kinds of songs the user likes.\n",
    "\n",
    "This dataset is publicly available on Kaggle, but not licensed to be freely distributed. As a result, we do not provide this dataset in your repository, and you will have to download it yourself. Follow the steps below to get the data CSV. \n",
    "\n",
    "- If you do not have an account with Kaggle, you will first need to create one (it's free); \n",
    "- Login to your account and [download](https://www.kaggle.com/geomack/spotifyclassification/downloads/spotifyclassification.zip/1) the dataset;  \n",
    "- (You should always) Read the [terms and conditions](https://www.kaggle.com/terms) before using the data."
   ]
  },
  {
   "cell_type": "markdown",
   "metadata": {
    "deletable": false,
    "editable": false,
    "nbgrader": {
     "cell_type": "markdown",
     "checksum": "ee855da258a3349576a3239fb8fa3b89",
     "grade": false,
     "grade_id": "cell-9c08ed6fc1cdb243",
     "locked": true,
     "schema_version": 3,
     "solution": false,
     "task": false
    }
   },
   "source": [
    "**Question 2.1** \n",
    "{points: 2}\n",
    "\n",
    "1. Read in the data CSV and store it as a pandas dataframe named `spotify_df`. The first column of the .csv file should be set as the index.\n",
    "2. Show some summary statistics of each feature using the `describe` method, and store the results in a dataframe named `spotify_summary`. "
   ]
  },
  {
   "cell_type": "code",
   "execution_count": null,
   "metadata": {
    "deletable": false,
    "nbgrader": {
     "cell_type": "code",
     "checksum": "a9cafb8b448865c4ffaabe8e8cb40ae1",
     "grade": false,
     "grade_id": "cell-6981ce9f1efe0acd",
     "locked": false,
     "schema_version": 3,
     "solution": true,
     "task": false
    }
   },
   "outputs": [],
   "source": [
    "\n",
    "spotify_df = None \n",
    "spotify_summary = None \n",
    "\n",
    "# your code here\n",
    "raise NotImplementedError # No Answer - remove if you provide an answer"
   ]
  },
  {
   "cell_type": "code",
   "execution_count": null,
   "metadata": {
    "deletable": false,
    "editable": false,
    "nbgrader": {
     "cell_type": "code",
     "checksum": "cf8ca586d9d1fb3f0ec22a3df2e09703",
     "grade": true,
     "grade_id": "cell-408ad8bf031495c5",
     "locked": true,
     "points": 1,
     "schema_version": 3,
     "solution": false,
     "task": false
    }
   },
   "outputs": [],
   "source": [
    "t.test_2_1_a(spotify_df)"
   ]
  },
  {
   "cell_type": "code",
   "execution_count": null,
   "metadata": {
    "deletable": false,
    "editable": false,
    "nbgrader": {
     "cell_type": "code",
     "checksum": "48aede7d54356b43824265555af723df",
     "grade": true,
     "grade_id": "cell-22333dee9709bc8b",
     "locked": true,
     "points": 1,
     "schema_version": 3,
     "solution": false,
     "task": false
    }
   },
   "outputs": [],
   "source": [
    "t.test_2_1_b(spotify_summary)"
   ]
  },
  {
   "cell_type": "markdown",
   "metadata": {},
   "source": [
    "**Question 2.2** \n",
    "{points: 5}\n",
    "\n",
    "a) Which features would need to be one hot encoded? *Express your answer in form of a list `[1, 8]` and assign it to an variable called `answer2_2_a`.* \n",
    "\n",
    "b) Which categorical features would need to be preprocessed further to be able to use them? *Express your answer in form of a list `[1, 8]` and assign it to an variable called `answer2_2_b`.* "
   ]
  },
  {
   "cell_type": "code",
   "execution_count": null,
   "metadata": {
    "deletable": false,
    "nbgrader": {
     "cell_type": "code",
     "checksum": "bdb533563f9464c0271addf7fe3679f2",
     "grade": false,
     "grade_id": "cell-185bcaa8d7e6fd84",
     "locked": false,
     "schema_version": 3,
     "solution": true,
     "task": false
    }
   },
   "outputs": [],
   "source": [
    "\n",
    "answer2_2_a = None\n",
    "answer2_2_b = None\n",
    "\n",
    "# your code here\n",
    "raise NotImplementedError # No Answer - remove if you provide an answer"
   ]
  },
  {
   "cell_type": "code",
   "execution_count": null,
   "metadata": {
    "deletable": false,
    "editable": false,
    "nbgrader": {
     "cell_type": "code",
     "checksum": "fc0c24610cebadecf3def26bc526c69f",
     "grade": true,
     "grade_id": "cell-6b8ced3064ff4d7a",
     "locked": true,
     "points": 1,
     "schema_version": 3,
     "solution": false,
     "task": false
    }
   },
   "outputs": [],
   "source": [
    "t.test_2_2_a(answer2_2_a)"
   ]
  },
  {
   "cell_type": "code",
   "execution_count": null,
   "metadata": {
    "deletable": false,
    "editable": false,
    "nbgrader": {
     "cell_type": "code",
     "checksum": "b6bb22ab9e47a193320195f1a534e789",
     "grade": true,
     "grade_id": "cell-c62dd8dde3f3fbcb",
     "locked": true,
     "points": 1,
     "schema_version": 3,
     "solution": false,
     "task": false
    }
   },
   "outputs": [],
   "source": [
    "t.test_2_2_b(answer2_2_b)"
   ]
  },
  {
   "cell_type": "markdown",
   "metadata": {
    "deletable": false,
    "editable": false,
    "nbgrader": {
     "cell_type": "markdown",
     "checksum": "e308f6bdd3e55adaaa55f2b724f0edc0",
     "grade": false,
     "grade_id": "cell-757cbcb66caa54aa",
     "locked": true,
     "schema_version": 3,
     "solution": false,
     "task": false
    }
   },
   "source": [
    "**Question 2.3** \n",
    "{points: 5}\n",
    "\n",
    "The code given below is as function that produces histograms for the features (in order) `danceability`, `tempo`, `instrumentalness`, `valence`, that show the distribution of the feature values separated for `target` values of `0` and `1`. Fill in the missing code below in order to run the function.\n",
    "\n",
    "\n",
    "Notes: \n",
    "\n",
    "- The plots are being used with python package `altair`\n"
   ]
  },
  {
   "cell_type": "code",
   "execution_count": null,
   "metadata": {
    "deletable": false,
    "editable": false,
    "nbgrader": {
     "cell_type": "code",
     "checksum": "fba3e5ef19507d52d4d5516c66efd53a",
     "grade": false,
     "grade_id": "cell-4e55131a9921d355",
     "locked": true,
     "schema_version": 3,
     "solution": false,
     "task": false
    }
   },
   "outputs": [],
   "source": [
    "### Please copy and paste this cell into a new one and fill in the blanks.\n",
    "def plot_histogram(df,feature):\n",
    "    \"\"\"\n",
    "    plots a histogram of a decision trees feature\n",
    "\n",
    "    Parameters\n",
    "    ----------\n",
    "    feature: str\n",
    "        the feature name\n",
    "    Returns\n",
    "    -------\n",
    "    altair.vegalite.v3.api.Chart\n",
    "        an Altair histogram \n",
    "    \"\"\"\n",
    "    histogram = alt.Chart(df).mark_bar(\n",
    "        opacity=0.7).encode(\n",
    "        alt.X(feature, bin=alt.Bin(maxbins=50)),\n",
    "        alt.Y('count()', stack=None),\n",
    "        alt.Color('target:N')).properties(\n",
    "        title= str.title(feature))\n",
    "    return ....\n",
    "\n",
    "feature_list = ....\n",
    "figure_dict = dict()\n",
    "for feature in .... :\n",
    "    figure_dict.update({feature:plot_histogram(....,feature)})\n",
    "figure_panel = alt.vconcat(*.... .values())\n",
    "figure_panel\n"
   ]
  },
  {
   "cell_type": "code",
   "execution_count": null,
   "metadata": {
    "deletable": false,
    "nbgrader": {
     "cell_type": "code",
     "checksum": "665d63a0102b220f86eb2086359b74e9",
     "grade": false,
     "grade_id": "cell-1de4c9b5892446d6",
     "locked": false,
     "schema_version": 3,
     "solution": true,
     "task": false
    }
   },
   "outputs": [],
   "source": [
    "# your code here\n",
    "raise NotImplementedError # No Answer - remove if you provide an answer\n"
   ]
  },
  {
   "cell_type": "code",
   "execution_count": null,
   "metadata": {
    "deletable": false,
    "editable": false,
    "nbgrader": {
     "cell_type": "code",
     "checksum": "893ea5a6e83cb630bbc5baea49bc119a",
     "grade": true,
     "grade_id": "cell-c8e8c917f3433f5d",
     "locked": true,
     "points": 5,
     "schema_version": 3,
     "solution": false,
     "task": false
    }
   },
   "outputs": [],
   "source": [
    "t.test_2_3(feature_list, figure_dict, figure_panel)"
   ]
  },
  {
   "cell_type": "markdown",
   "metadata": {
    "deletable": false,
    "editable": false,
    "nbgrader": {
     "cell_type": "markdown",
     "checksum": "27a758348d73d1b50d1e7170a4bbd2aa",
     "grade": false,
     "grade_id": "cell-febed638aaaeaa95",
     "locked": true,
     "schema_version": 3,
     "solution": false,
     "task": false
    }
   },
   "source": [
    "Briefly think about your observations; which features might be useful in differentiating the target classes?"
   ]
  },
  {
   "cell_type": "code",
   "execution_count": null,
   "metadata": {},
   "outputs": [],
   "source": []
  },
  {
   "cell_type": "code",
   "execution_count": null,
   "metadata": {},
   "outputs": [],
   "source": []
  },
  {
   "cell_type": "code",
   "execution_count": null,
   "metadata": {},
   "outputs": [],
   "source": []
  },
  {
   "cell_type": "code",
   "execution_count": null,
   "metadata": {},
   "outputs": [],
   "source": []
  }
 ],
 "metadata": {
  "kernelspec": {
   "display_name": "Python 3",
   "language": "python",
   "name": "python3"
  },
  "language_info": {
   "codemirror_mode": {
    "name": "ipython",
    "version": 3
   },
   "file_extension": ".py",
   "mimetype": "text/x-python",
   "name": "python",
   "nbconvert_exporter": "python",
   "pygments_lexer": "ipython3",
   "version": "3.8.5"
  }
 },
 "nbformat": 4,
 "nbformat_minor": 2
}
